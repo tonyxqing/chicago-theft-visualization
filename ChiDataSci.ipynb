{
 "cells": [
  {
   "cell_type": "code",
   "execution_count": 2,
   "id": "bae936cb",
   "metadata": {},
   "outputs": [
    {
     "data": {
      "text/plain": [
       "['svelte.config.js',\n",
       " 'kde_theft.json',\n",
       " '.DS_Store',\n",
       " 'chicago_outline.json',\n",
       " 'node_modules',\n",
       " 'crime_map.csv',\n",
       " 'community_data.csv',\n",
       " 'ChiDataSci.ipynb',\n",
       " '.npmrc',\n",
       " 'README.md',\n",
       " 'ChicagoDataScience.ipynb',\n",
       " '.gitignore',\n",
       " 'package-lock.json',\n",
       " 'package.json',\n",
       " 'static',\n",
       " 'Crimes_-_Map.csv',\n",
       " 'chicagodata.json',\n",
       " 'tsconfig.json',\n",
       " '.ipynb_checkpoints',\n",
       " '.svelte-kit',\n",
       " 'vite.config.ts',\n",
       " '.git',\n",
       " 'src']"
      ]
     },
     "execution_count": 2,
     "metadata": {},
     "output_type": "execute_result"
    }
   ],
   "source": [
    "import os\n",
    "os.listdir('./')"
   ]
  },
  {
   "cell_type": "code",
   "execution_count": 57,
   "id": "d24bf722",
   "metadata": {},
   "outputs": [
    {
     "data": {
      "text/plain": [
       "371835607.687"
      ]
     },
     "execution_count": 57,
     "metadata": {},
     "output_type": "execute_result"
    }
   ],
   "source": [
    "import geopandas as gpd\n",
    "df_neighborhoods = gpd.read_file('./src/Boundaries - Neighborhoods.json')\n",
    "df_neighborhoods['shape_area'] = pd.to_numeric(df_neighborhoods['shape_area'])\n",
    "df_neighborhoods['shape_area'].max()"
   ]
  },
  {
   "cell_type": "code",
   "execution_count": 43,
   "id": "dc7f2988",
   "metadata": {},
   "outputs": [
    {
     "data": {
      "text/html": [
       "<div>\n",
       "<style scoped>\n",
       "    .dataframe tbody tr th:only-of-type {\n",
       "        vertical-align: middle;\n",
       "    }\n",
       "\n",
       "    .dataframe tbody tr th {\n",
       "        vertical-align: top;\n",
       "    }\n",
       "\n",
       "    .dataframe thead th {\n",
       "        text-align: right;\n",
       "    }\n",
       "</style>\n",
       "<table border=\"1\" class=\"dataframe\">\n",
       "  <thead>\n",
       "    <tr style=\"text-align: right;\">\n",
       "      <th></th>\n",
       "      <th>CASE#</th>\n",
       "      <th>DATE  OF OCCURRENCE</th>\n",
       "      <th>BLOCK</th>\n",
       "      <th>IUCR</th>\n",
       "      <th>PRIMARY DESCRIPTION</th>\n",
       "      <th>SECONDARY DESCRIPTION</th>\n",
       "      <th>LOCATION DESCRIPTION</th>\n",
       "      <th>ARREST</th>\n",
       "      <th>DOMESTIC</th>\n",
       "      <th>BEAT</th>\n",
       "      <th>WARD</th>\n",
       "      <th>FBI CD</th>\n",
       "      <th>X COORDINATE</th>\n",
       "      <th>Y COORDINATE</th>\n",
       "      <th>LATITUDE</th>\n",
       "      <th>LONGITUDE</th>\n",
       "      <th>LOCATION</th>\n",
       "    </tr>\n",
       "  </thead>\n",
       "  <tbody>\n",
       "    <tr>\n",
       "      <th>0</th>\n",
       "      <td>JF238175</td>\n",
       "      <td>05/11/2022 11:25:00 AM</td>\n",
       "      <td>002XX W MADISON ST</td>\n",
       "      <td>0860</td>\n",
       "      <td>THEFT</td>\n",
       "      <td>RETAIL THEFT</td>\n",
       "      <td>DRUG STORE</td>\n",
       "      <td>N</td>\n",
       "      <td>N</td>\n",
       "      <td>122</td>\n",
       "      <td>42.0</td>\n",
       "      <td>06</td>\n",
       "      <td>NaN</td>\n",
       "      <td>NaN</td>\n",
       "      <td>NaN</td>\n",
       "      <td>NaN</td>\n",
       "      <td>NaN</td>\n",
       "    </tr>\n",
       "    <tr>\n",
       "      <th>1</th>\n",
       "      <td>JF228949</td>\n",
       "      <td>04/25/2022 12:00:00 PM</td>\n",
       "      <td>010XX W DIVERSEY PKWY</td>\n",
       "      <td>0890</td>\n",
       "      <td>THEFT</td>\n",
       "      <td>FROM BUILDING</td>\n",
       "      <td>RESIDENCE - GARAGE</td>\n",
       "      <td>N</td>\n",
       "      <td>N</td>\n",
       "      <td>1933</td>\n",
       "      <td>44.0</td>\n",
       "      <td>06</td>\n",
       "      <td>NaN</td>\n",
       "      <td>NaN</td>\n",
       "      <td>NaN</td>\n",
       "      <td>NaN</td>\n",
       "      <td>NaN</td>\n",
       "    </tr>\n",
       "    <tr>\n",
       "      <th>2</th>\n",
       "      <td>JF186941</td>\n",
       "      <td>03/25/2022 07:55:00 PM</td>\n",
       "      <td>021XX W 21ST ST</td>\n",
       "      <td>0810</td>\n",
       "      <td>THEFT</td>\n",
       "      <td>OVER $500</td>\n",
       "      <td>STREET</td>\n",
       "      <td>N</td>\n",
       "      <td>N</td>\n",
       "      <td>1234</td>\n",
       "      <td>25.0</td>\n",
       "      <td>06</td>\n",
       "      <td>NaN</td>\n",
       "      <td>NaN</td>\n",
       "      <td>NaN</td>\n",
       "      <td>NaN</td>\n",
       "      <td>NaN</td>\n",
       "    </tr>\n",
       "    <tr>\n",
       "      <th>3</th>\n",
       "      <td>JF293270</td>\n",
       "      <td>06/24/2022 01:00:00 AM</td>\n",
       "      <td>054XX S Ingleside Ave</td>\n",
       "      <td>0810</td>\n",
       "      <td>THEFT</td>\n",
       "      <td>OVER $500</td>\n",
       "      <td>STREET</td>\n",
       "      <td>N</td>\n",
       "      <td>N</td>\n",
       "      <td>233</td>\n",
       "      <td>5.0</td>\n",
       "      <td>06</td>\n",
       "      <td>NaN</td>\n",
       "      <td>NaN</td>\n",
       "      <td>NaN</td>\n",
       "      <td>NaN</td>\n",
       "      <td>NaN</td>\n",
       "    </tr>\n",
       "    <tr>\n",
       "      <th>4</th>\n",
       "      <td>JF361213</td>\n",
       "      <td>08/16/2022 09:00:00 AM</td>\n",
       "      <td>013XX W FULTON ST</td>\n",
       "      <td>0810</td>\n",
       "      <td>THEFT</td>\n",
       "      <td>OVER $500</td>\n",
       "      <td>PARKING LOT / GARAGE (NON RESIDENTIAL)</td>\n",
       "      <td>N</td>\n",
       "      <td>N</td>\n",
       "      <td>1215</td>\n",
       "      <td>27.0</td>\n",
       "      <td>06</td>\n",
       "      <td>NaN</td>\n",
       "      <td>NaN</td>\n",
       "      <td>NaN</td>\n",
       "      <td>NaN</td>\n",
       "      <td>NaN</td>\n",
       "    </tr>\n",
       "    <tr>\n",
       "      <th>...</th>\n",
       "      <td>...</td>\n",
       "      <td>...</td>\n",
       "      <td>...</td>\n",
       "      <td>...</td>\n",
       "      <td>...</td>\n",
       "      <td>...</td>\n",
       "      <td>...</td>\n",
       "      <td>...</td>\n",
       "      <td>...</td>\n",
       "      <td>...</td>\n",
       "      <td>...</td>\n",
       "      <td>...</td>\n",
       "      <td>...</td>\n",
       "      <td>...</td>\n",
       "      <td>...</td>\n",
       "      <td>...</td>\n",
       "      <td>...</td>\n",
       "    </tr>\n",
       "    <tr>\n",
       "      <th>245175</th>\n",
       "      <td>JF400411</td>\n",
       "      <td>09/18/2022 02:36:00 AM</td>\n",
       "      <td>013XX E 56TH ST</td>\n",
       "      <td>0486</td>\n",
       "      <td>BATTERY</td>\n",
       "      <td>DOMESTIC BATTERY SIMPLE</td>\n",
       "      <td>STREET</td>\n",
       "      <td>N</td>\n",
       "      <td>Y</td>\n",
       "      <td>235</td>\n",
       "      <td>5.0</td>\n",
       "      <td>08B</td>\n",
       "      <td>1186393.0</td>\n",
       "      <td>1868149.0</td>\n",
       "      <td>41.793323</td>\n",
       "      <td>-87.592045</td>\n",
       "      <td>(41.793323121, -87.592044791)</td>\n",
       "    </tr>\n",
       "    <tr>\n",
       "      <th>245176</th>\n",
       "      <td>JF348216</td>\n",
       "      <td>08/07/2022 07:00:00 PM</td>\n",
       "      <td>065XX S INGLESIDE AVE</td>\n",
       "      <td>0910</td>\n",
       "      <td>MOTOR VEHICLE THEFT</td>\n",
       "      <td>AUTOMOBILE</td>\n",
       "      <td>VACANT LOT / LAND</td>\n",
       "      <td>N</td>\n",
       "      <td>N</td>\n",
       "      <td>321</td>\n",
       "      <td>20.0</td>\n",
       "      <td>07</td>\n",
       "      <td>1183680.0</td>\n",
       "      <td>1861925.0</td>\n",
       "      <td>41.776308</td>\n",
       "      <td>-87.602187</td>\n",
       "      <td>(41.776307684, -87.602187052)</td>\n",
       "    </tr>\n",
       "    <tr>\n",
       "      <th>245177</th>\n",
       "      <td>JF491050</td>\n",
       "      <td>11/28/2022 05:00:00 PM</td>\n",
       "      <td>082XX S KIMBARK AVE</td>\n",
       "      <td>0910</td>\n",
       "      <td>MOTOR VEHICLE THEFT</td>\n",
       "      <td>AUTOMOBILE</td>\n",
       "      <td>STREET</td>\n",
       "      <td>N</td>\n",
       "      <td>N</td>\n",
       "      <td>411</td>\n",
       "      <td>8.0</td>\n",
       "      <td>07</td>\n",
       "      <td>1186309.0</td>\n",
       "      <td>1850591.0</td>\n",
       "      <td>41.745144</td>\n",
       "      <td>-87.592907</td>\n",
       "      <td>(41.74514439, -87.592907065)</td>\n",
       "    </tr>\n",
       "    <tr>\n",
       "      <th>245178</th>\n",
       "      <td>JF417868</td>\n",
       "      <td>10/01/2022 01:35:00 PM</td>\n",
       "      <td>075XX N CLARK ST</td>\n",
       "      <td>0860</td>\n",
       "      <td>THEFT</td>\n",
       "      <td>RETAIL THEFT</td>\n",
       "      <td>DEPARTMENT STORE</td>\n",
       "      <td>Y</td>\n",
       "      <td>N</td>\n",
       "      <td>2422</td>\n",
       "      <td>49.0</td>\n",
       "      <td>06</td>\n",
       "      <td>1162907.0</td>\n",
       "      <td>1949949.0</td>\n",
       "      <td>42.018312</td>\n",
       "      <td>-87.675867</td>\n",
       "      <td>(42.018311737, -87.675866628)</td>\n",
       "    </tr>\n",
       "    <tr>\n",
       "      <th>245179</th>\n",
       "      <td>JF502464</td>\n",
       "      <td>12/07/2022 05:30:00 PM</td>\n",
       "      <td>006XX N PARKSIDE AVE</td>\n",
       "      <td>0920</td>\n",
       "      <td>MOTOR VEHICLE THEFT</td>\n",
       "      <td>ATTEMPT - AUTOMOBILE</td>\n",
       "      <td>STREET</td>\n",
       "      <td>N</td>\n",
       "      <td>N</td>\n",
       "      <td>1511</td>\n",
       "      <td>29.0</td>\n",
       "      <td>07</td>\n",
       "      <td>1138569.0</td>\n",
       "      <td>1903659.0</td>\n",
       "      <td>41.891766</td>\n",
       "      <td>-87.766554</td>\n",
       "      <td>(41.891765632, -87.766553683)</td>\n",
       "    </tr>\n",
       "  </tbody>\n",
       "</table>\n",
       "<p>245180 rows × 17 columns</p>\n",
       "</div>"
      ],
      "text/plain": [
       "           CASE#     DATE  OF OCCURRENCE                  BLOCK  IUCR  \\\n",
       "0       JF238175  05/11/2022 11:25:00 AM     002XX W MADISON ST  0860   \n",
       "1       JF228949  04/25/2022 12:00:00 PM  010XX W DIVERSEY PKWY  0890   \n",
       "2       JF186941  03/25/2022 07:55:00 PM        021XX W 21ST ST  0810   \n",
       "3       JF293270  06/24/2022 01:00:00 AM  054XX S Ingleside Ave  0810   \n",
       "4       JF361213  08/16/2022 09:00:00 AM      013XX W FULTON ST  0810   \n",
       "...          ...                     ...                    ...   ...   \n",
       "245175  JF400411  09/18/2022 02:36:00 AM        013XX E 56TH ST  0486   \n",
       "245176  JF348216  08/07/2022 07:00:00 PM  065XX S INGLESIDE AVE  0910   \n",
       "245177  JF491050  11/28/2022 05:00:00 PM    082XX S KIMBARK AVE  0910   \n",
       "245178  JF417868  10/01/2022 01:35:00 PM       075XX N CLARK ST  0860   \n",
       "245179  JF502464  12/07/2022 05:30:00 PM   006XX N PARKSIDE AVE  0920   \n",
       "\n",
       "        PRIMARY DESCRIPTION    SECONDARY DESCRIPTION  \\\n",
       "0                     THEFT             RETAIL THEFT   \n",
       "1                     THEFT            FROM BUILDING   \n",
       "2                     THEFT                OVER $500   \n",
       "3                     THEFT                OVER $500   \n",
       "4                     THEFT                OVER $500   \n",
       "...                     ...                      ...   \n",
       "245175              BATTERY  DOMESTIC BATTERY SIMPLE   \n",
       "245176  MOTOR VEHICLE THEFT               AUTOMOBILE   \n",
       "245177  MOTOR VEHICLE THEFT               AUTOMOBILE   \n",
       "245178                THEFT             RETAIL THEFT   \n",
       "245179  MOTOR VEHICLE THEFT     ATTEMPT - AUTOMOBILE   \n",
       "\n",
       "                          LOCATION DESCRIPTION ARREST DOMESTIC  BEAT  WARD  \\\n",
       "0                                   DRUG STORE      N        N   122  42.0   \n",
       "1                           RESIDENCE - GARAGE      N        N  1933  44.0   \n",
       "2                                       STREET      N        N  1234  25.0   \n",
       "3                                       STREET      N        N   233   5.0   \n",
       "4       PARKING LOT / GARAGE (NON RESIDENTIAL)      N        N  1215  27.0   \n",
       "...                                        ...    ...      ...   ...   ...   \n",
       "245175                                  STREET      N        Y   235   5.0   \n",
       "245176                       VACANT LOT / LAND      N        N   321  20.0   \n",
       "245177                                  STREET      N        N   411   8.0   \n",
       "245178                        DEPARTMENT STORE      Y        N  2422  49.0   \n",
       "245179                                  STREET      N        N  1511  29.0   \n",
       "\n",
       "       FBI CD  X COORDINATE  Y COORDINATE   LATITUDE  LONGITUDE  \\\n",
       "0          06           NaN           NaN        NaN        NaN   \n",
       "1          06           NaN           NaN        NaN        NaN   \n",
       "2          06           NaN           NaN        NaN        NaN   \n",
       "3          06           NaN           NaN        NaN        NaN   \n",
       "4          06           NaN           NaN        NaN        NaN   \n",
       "...       ...           ...           ...        ...        ...   \n",
       "245175    08B     1186393.0     1868149.0  41.793323 -87.592045   \n",
       "245176     07     1183680.0     1861925.0  41.776308 -87.602187   \n",
       "245177     07     1186309.0     1850591.0  41.745144 -87.592907   \n",
       "245178     06     1162907.0     1949949.0  42.018312 -87.675867   \n",
       "245179     07     1138569.0     1903659.0  41.891766 -87.766554   \n",
       "\n",
       "                             LOCATION  \n",
       "0                                 NaN  \n",
       "1                                 NaN  \n",
       "2                                 NaN  \n",
       "3                                 NaN  \n",
       "4                                 NaN  \n",
       "...                               ...  \n",
       "245175  (41.793323121, -87.592044791)  \n",
       "245176  (41.776307684, -87.602187052)  \n",
       "245177   (41.74514439, -87.592907065)  \n",
       "245178  (42.018311737, -87.675866628)  \n",
       "245179  (41.891765632, -87.766553683)  \n",
       "\n",
       "[245180 rows x 17 columns]"
      ]
     },
     "execution_count": 43,
     "metadata": {},
     "output_type": "execute_result"
    }
   ],
   "source": [
    "import pandas as pd\n",
    "import numpy as np\n",
    "df = pd.read_csv('./Crimes_-_Map.csv')\n",
    "df"
   ]
  },
  {
   "cell_type": "code",
   "execution_count": 5,
   "id": "a3598852",
   "metadata": {},
   "outputs": [
    {
     "data": {
      "text/html": [
       "<div>\n",
       "<style scoped>\n",
       "    .dataframe tbody tr th:only-of-type {\n",
       "        vertical-align: middle;\n",
       "    }\n",
       "\n",
       "    .dataframe tbody tr th {\n",
       "        vertical-align: top;\n",
       "    }\n",
       "\n",
       "    .dataframe thead th {\n",
       "        text-align: right;\n",
       "    }\n",
       "</style>\n",
       "<table border=\"1\" class=\"dataframe\">\n",
       "  <thead>\n",
       "    <tr style=\"text-align: right;\">\n",
       "      <th></th>\n",
       "      <th>NEIGHBORHOOD</th>\n",
       "      <th>PRIMARY DESCRIPTION</th>\n",
       "      <th>ARREST</th>\n",
       "      <th>DOMESTIC</th>\n",
       "      <th>LATITUDE</th>\n",
       "      <th>LONGITUDE</th>\n",
       "    </tr>\n",
       "  </thead>\n",
       "  <tbody>\n",
       "    <tr>\n",
       "      <th>11</th>\n",
       "      <td>NaN</td>\n",
       "      <td>THEFT</td>\n",
       "      <td>N</td>\n",
       "      <td>N</td>\n",
       "      <td>41.886801</td>\n",
       "      <td>-87.645920</td>\n",
       "    </tr>\n",
       "    <tr>\n",
       "      <th>14</th>\n",
       "      <td>NaN</td>\n",
       "      <td>ASSAULT</td>\n",
       "      <td>N</td>\n",
       "      <td>Y</td>\n",
       "      <td>41.880751</td>\n",
       "      <td>-87.723856</td>\n",
       "    </tr>\n",
       "    <tr>\n",
       "      <th>15</th>\n",
       "      <td>NaN</td>\n",
       "      <td>THEFT</td>\n",
       "      <td>N</td>\n",
       "      <td>N</td>\n",
       "      <td>42.018616</td>\n",
       "      <td>-87.665846</td>\n",
       "    </tr>\n",
       "    <tr>\n",
       "      <th>33</th>\n",
       "      <td>NaN</td>\n",
       "      <td>DECEPTIVE PRACTICE</td>\n",
       "      <td>N</td>\n",
       "      <td>N</td>\n",
       "      <td>41.806859</td>\n",
       "      <td>-87.732124</td>\n",
       "    </tr>\n",
       "    <tr>\n",
       "      <th>47</th>\n",
       "      <td>NaN</td>\n",
       "      <td>CRIMINAL TRESPASS</td>\n",
       "      <td>Y</td>\n",
       "      <td>N</td>\n",
       "      <td>41.854763</td>\n",
       "      <td>-87.689136</td>\n",
       "    </tr>\n",
       "  </tbody>\n",
       "</table>\n",
       "</div>"
      ],
      "text/plain": [
       "    NEIGHBORHOOD  PRIMARY DESCRIPTION ARREST DOMESTIC   LATITUDE  LONGITUDE\n",
       "11           NaN                THEFT      N        N  41.886801 -87.645920\n",
       "14           NaN              ASSAULT      N        Y  41.880751 -87.723856\n",
       "15           NaN                THEFT      N        N  42.018616 -87.665846\n",
       "33           NaN   DECEPTIVE PRACTICE      N        N  41.806859 -87.732124\n",
       "47           NaN    CRIMINAL TRESPASS      Y        N  41.854763 -87.689136"
      ]
     },
     "execution_count": 5,
     "metadata": {},
     "output_type": "execute_result"
    }
   ],
   "source": [
    "new_df = df.drop(['CASE#', 'DATE  OF OCCURRENCE', 'BLOCK', ' IUCR', ' SECONDARY DESCRIPTION', ' LOCATION DESCRIPTION', 'BEAT', 'WARD', 'FBI CD', 'X COORDINATE', 'Y COORDINATE', 'LOCATION'], axis=1)\n",
    "new_df = new_df.dropna()\n",
    "new_df.insert(0, \"NEIGHBORHOOD\", np.nan)\n",
    "new_df.head()"
   ]
  },
  {
   "cell_type": "code",
   "execution_count": 6,
   "id": "b9fb81f1",
   "metadata": {},
   "outputs": [],
   "source": [
    "import shapely\n",
    "from shapely.geometry import LineString, Point, Polygon, MultiPolygon\n",
    "from shapely.strtree import STRtree\n",
    "\n",
    "index = STRtree(df_neighborhoods.geometry.tolist())\n",
    "\n"
   ]
  },
  {
   "cell_type": "code",
   "execution_count": 7,
   "id": "93afc7a9",
   "metadata": {},
   "outputs": [],
   "source": [
    "for ind, i in enumerate(new_df.index):\n",
    "    point = Point(new_df['LONGITUDE'][i],new_df['LATITUDE'][i])\n",
    "    for polygon in index.query(point):\n",
    "        new_df['NEIGHBORHOOD'][i] = (df_neighborhoods['pri_neigh'][polygon])\n",
    "    "
   ]
  },
  {
   "cell_type": "code",
   "execution_count": 8,
   "id": "b45b7dfd",
   "metadata": {},
   "outputs": [
    {
     "data": {
      "text/html": [
       "<div>\n",
       "<style scoped>\n",
       "    .dataframe tbody tr th:only-of-type {\n",
       "        vertical-align: middle;\n",
       "    }\n",
       "\n",
       "    .dataframe tbody tr th {\n",
       "        vertical-align: top;\n",
       "    }\n",
       "\n",
       "    .dataframe thead th {\n",
       "        text-align: right;\n",
       "    }\n",
       "</style>\n",
       "<table border=\"1\" class=\"dataframe\">\n",
       "  <thead>\n",
       "    <tr style=\"text-align: right;\">\n",
       "      <th></th>\n",
       "      <th>pri_neigh</th>\n",
       "      <th>sec_neigh</th>\n",
       "      <th>shape_area</th>\n",
       "      <th>shape_len</th>\n",
       "      <th>geometry</th>\n",
       "    </tr>\n",
       "  </thead>\n",
       "  <tbody>\n",
       "    <tr>\n",
       "      <th>0</th>\n",
       "      <td>Grand Boulevard</td>\n",
       "      <td>BRONZEVILLE</td>\n",
       "      <td>48492503.1554</td>\n",
       "      <td>28196.837157</td>\n",
       "      <td>POLYGON ((-87.60671 41.81681, -87.60668 41.815...</td>\n",
       "    </tr>\n",
       "    <tr>\n",
       "      <th>1</th>\n",
       "      <td>Printers Row</td>\n",
       "      <td>PRINTERS ROW</td>\n",
       "      <td>2162137.97139</td>\n",
       "      <td>6864.247156</td>\n",
       "      <td>POLYGON ((-87.62742 41.86741, -87.63044 41.867...</td>\n",
       "    </tr>\n",
       "    <tr>\n",
       "      <th>2</th>\n",
       "      <td>United Center</td>\n",
       "      <td>UNITED CENTER</td>\n",
       "      <td>32520512.7053</td>\n",
       "      <td>23101.363745</td>\n",
       "      <td>POLYGON ((-87.66707 41.88885, -87.66706 41.887...</td>\n",
       "    </tr>\n",
       "    <tr>\n",
       "      <th>3</th>\n",
       "      <td>Sheffield &amp; DePaul</td>\n",
       "      <td>SHEFFIELD &amp; DEPAUL</td>\n",
       "      <td>10482592.2987</td>\n",
       "      <td>13227.049745</td>\n",
       "      <td>POLYGON ((-87.65871 41.93256, -87.65472 41.932...</td>\n",
       "    </tr>\n",
       "    <tr>\n",
       "      <th>4</th>\n",
       "      <td>Humboldt Park</td>\n",
       "      <td>HUMBOLDT PARK</td>\n",
       "      <td>125010425.593</td>\n",
       "      <td>46126.751351</td>\n",
       "      <td>POLYGON ((-87.74060 41.88782, -87.74069 41.890...</td>\n",
       "    </tr>\n",
       "  </tbody>\n",
       "</table>\n",
       "</div>"
      ],
      "text/plain": [
       "            pri_neigh           sec_neigh     shape_area     shape_len  \\\n",
       "0     Grand Boulevard         BRONZEVILLE  48492503.1554  28196.837157   \n",
       "1        Printers Row        PRINTERS ROW  2162137.97139   6864.247156   \n",
       "2       United Center       UNITED CENTER  32520512.7053  23101.363745   \n",
       "3  Sheffield & DePaul  SHEFFIELD & DEPAUL  10482592.2987  13227.049745   \n",
       "4       Humboldt Park       HUMBOLDT PARK  125010425.593  46126.751351   \n",
       "\n",
       "                                            geometry  \n",
       "0  POLYGON ((-87.60671 41.81681, -87.60668 41.815...  \n",
       "1  POLYGON ((-87.62742 41.86741, -87.63044 41.867...  \n",
       "2  POLYGON ((-87.66707 41.88885, -87.66706 41.887...  \n",
       "3  POLYGON ((-87.65871 41.93256, -87.65472 41.932...  \n",
       "4  POLYGON ((-87.74060 41.88782, -87.74069 41.890...  "
      ]
     },
     "execution_count": 8,
     "metadata": {},
     "output_type": "execute_result"
    }
   ],
   "source": [
    "df_neighborhoods.head()"
   ]
  },
  {
   "cell_type": "code",
   "execution_count": 9,
   "id": "3bc5882c",
   "metadata": {},
   "outputs": [],
   "source": [
    "so_df = new_df[(new_df[' PRIMARY DESCRIPTION'] == \"MOTOR VEHICLE THEFT\")]"
   ]
  },
  {
   "cell_type": "code",
   "execution_count": 10,
   "id": "3cdd75b8",
   "metadata": {},
   "outputs": [
    {
     "data": {
      "text/html": [
       "<div>\n",
       "<style scoped>\n",
       "    .dataframe tbody tr th:only-of-type {\n",
       "        vertical-align: middle;\n",
       "    }\n",
       "\n",
       "    .dataframe tbody tr th {\n",
       "        vertical-align: top;\n",
       "    }\n",
       "\n",
       "    .dataframe thead th {\n",
       "        text-align: right;\n",
       "    }\n",
       "</style>\n",
       "<table border=\"1\" class=\"dataframe\">\n",
       "  <thead>\n",
       "    <tr style=\"text-align: right;\">\n",
       "      <th></th>\n",
       "      <th>NEIGHBORHOOD</th>\n",
       "      <th>PRIMARY DESCRIPTION</th>\n",
       "      <th>ARREST</th>\n",
       "      <th>DOMESTIC</th>\n",
       "      <th>LATITUDE</th>\n",
       "      <th>LONGITUDE</th>\n",
       "    </tr>\n",
       "  </thead>\n",
       "  <tbody>\n",
       "    <tr>\n",
       "      <th>157</th>\n",
       "      <td>Austin</td>\n",
       "      <td>MOTOR VEHICLE THEFT</td>\n",
       "      <td>N</td>\n",
       "      <td>N</td>\n",
       "      <td>41.912674</td>\n",
       "      <td>-87.752764</td>\n",
       "    </tr>\n",
       "    <tr>\n",
       "      <th>165</th>\n",
       "      <td>Gage Park</td>\n",
       "      <td>MOTOR VEHICLE THEFT</td>\n",
       "      <td>N</td>\n",
       "      <td>N</td>\n",
       "      <td>41.794691</td>\n",
       "      <td>-87.692606</td>\n",
       "    </tr>\n",
       "    <tr>\n",
       "      <th>170</th>\n",
       "      <td>Auburn Gresham</td>\n",
       "      <td>MOTOR VEHICLE THEFT</td>\n",
       "      <td>N</td>\n",
       "      <td>N</td>\n",
       "      <td>41.749649</td>\n",
       "      <td>-87.645227</td>\n",
       "    </tr>\n",
       "    <tr>\n",
       "      <th>173</th>\n",
       "      <td>Avondale</td>\n",
       "      <td>MOTOR VEHICLE THEFT</td>\n",
       "      <td>N</td>\n",
       "      <td>N</td>\n",
       "      <td>41.936854</td>\n",
       "      <td>-87.720172</td>\n",
       "    </tr>\n",
       "    <tr>\n",
       "      <th>179</th>\n",
       "      <td>Little Italy, UIC</td>\n",
       "      <td>MOTOR VEHICLE THEFT</td>\n",
       "      <td>N</td>\n",
       "      <td>N</td>\n",
       "      <td>41.872965</td>\n",
       "      <td>-87.687511</td>\n",
       "    </tr>\n",
       "  </tbody>\n",
       "</table>\n",
       "</div>"
      ],
      "text/plain": [
       "          NEIGHBORHOOD  PRIMARY DESCRIPTION ARREST DOMESTIC   LATITUDE  \\\n",
       "157             Austin  MOTOR VEHICLE THEFT      N        N  41.912674   \n",
       "165          Gage Park  MOTOR VEHICLE THEFT      N        N  41.794691   \n",
       "170     Auburn Gresham  MOTOR VEHICLE THEFT      N        N  41.749649   \n",
       "173           Avondale  MOTOR VEHICLE THEFT      N        N  41.936854   \n",
       "179  Little Italy, UIC  MOTOR VEHICLE THEFT      N        N  41.872965   \n",
       "\n",
       "     LONGITUDE  \n",
       "157 -87.752764  \n",
       "165 -87.692606  \n",
       "170 -87.645227  \n",
       "173 -87.720172  \n",
       "179 -87.687511  "
      ]
     },
     "execution_count": 10,
     "metadata": {},
     "output_type": "execute_result"
    }
   ],
   "source": [
    "a_df = so_df[so_df['ARREST'] == 'Y']\n",
    "so_df.head()"
   ]
  },
  {
   "cell_type": "code",
   "execution_count": 11,
   "id": "1c78f406",
   "metadata": {},
   "outputs": [
    {
     "data": {
      "text/plain": [
       "NEIGHBORHOOD\n",
       "Austin             64\n",
       "North Lawndale     30\n",
       "Garfield Park      28\n",
       "Englewood          23\n",
       "Humboldt Park      21\n",
       "                   ..\n",
       "Calumet Heights     1\n",
       "Riverdale           1\n",
       "Bridgeport          1\n",
       "Beverly             1\n",
       "Fuller Park         1\n",
       "Length: 76, dtype: int64"
      ]
     },
     "execution_count": 11,
     "metadata": {},
     "output_type": "execute_result"
    }
   ],
   "source": [
    "a_df.value_counts(subset=\"NEIGHBORHOOD\", normalize=False)"
   ]
  },
  {
   "cell_type": "code",
   "execution_count": 37,
   "id": "4785baae",
   "metadata": {},
   "outputs": [
    {
     "name": "stdout",
     "output_type": "stream",
     "text": [
      "Loop              3292\n",
      "West Town         2076\n",
      "River North       2038\n",
      "Lake View         1860\n",
      "West Loop         1703\n",
      "                  ... \n",
      "Jackson Park        49\n",
      "Armour Square       47\n",
      "Burnside            16\n",
      "Jefferson Park      13\n",
      "Andersonville        6\n",
      "Name: NEIGHBORHOOD, Length: 91, dtype: int64\n"
     ]
    }
   ],
   "source": [
    "vals = new_df[(new_df[' PRIMARY DESCRIPTION'] == \"THEFT\")]['NEIGHBORHOOD'].value_counts()\n",
    "vals_ind = vals.index\n",
    "print(vals)"
   ]
  },
  {
   "cell_type": "code",
   "execution_count": 24,
   "id": "eadc1d7d",
   "metadata": {},
   "outputs": [],
   "source": [
    "df_neighborhoods.insert(0, \"num_motor_thefts\", np.nan)"
   ]
  },
  {
   "cell_type": "code",
   "execution_count": 36,
   "id": "10155ec7",
   "metadata": {},
   "outputs": [
    {
     "name": "stderr",
     "output_type": "stream",
     "text": [
      "/var/folders/q2/blj1b35943190bxj_nqhbpy0w9ff45/T/ipykernel_76149/3006988521.py:3: SettingWithCopyWarning: \n",
      "A value is trying to be set on a copy of a slice from a DataFrame\n",
      "\n",
      "See the caveats in the documentation: https://pandas.pydata.org/pandas-docs/stable/user_guide/indexing.html#returning-a-view-versus-a-copy\n",
      "  df_neighborhoods['num_thefts'][i] = vals[df_neighborhoods['pri_neigh'][i]]\n",
      "/var/folders/q2/blj1b35943190bxj_nqhbpy0w9ff45/T/ipykernel_76149/3006988521.py:5: SettingWithCopyWarning: \n",
      "A value is trying to be set on a copy of a slice from a DataFrame\n",
      "\n",
      "See the caveats in the documentation: https://pandas.pydata.org/pandas-docs/stable/user_guide/indexing.html#returning-a-view-versus-a-copy\n",
      "  df_neighborhoods['num_thefts'][i] = 0\n"
     ]
    }
   ],
   "source": [
    "for i in df_neighborhoods['pri_neigh'].index:\n",
    "    if df_neighborhoods['pri_neigh'][i] in vals_ind:\n",
    "        df_neighborhoods['num_thefts'][i] = vals[df_neighborhoods['pri_neigh'][i]]\n",
    "    else:\n",
    "        df_neighborhoods['num_thefts'][i] = 0"
   ]
  },
  {
   "cell_type": "code",
   "execution_count": 26,
   "id": "6ad53883",
   "metadata": {},
   "outputs": [
    {
     "data": {
      "text/plain": [
       "<Axes: >"
      ]
     },
     "execution_count": 26,
     "metadata": {},
     "output_type": "execute_result"
    },
    {
     "data": {
      "image/png": "[encoded data removed]",
      "text/plain": [
       "<Figure size 640x480 with 1 Axes>"
      ]
     },
     "metadata": {},
     "output_type": "display_data"
    }
   ],
   "source": [
    "df_neighborhoods.plot(column=\"num_motor_thefts\")"
   ]
  },
  {
   "cell_type": "code",
   "execution_count": 42,
   "id": "90dfbf86",
   "metadata": {},
   "outputs": [],
   "source": [
    "df_neighborhoods.to_file(\"chicagodata.json\")"
   ]
  },
  {
   "cell_type": "code",
   "execution_count": 28,
   "id": "4fcb81dd",
   "metadata": {},
   "outputs": [
    {
     "data": {
      "text/plain": [
       "'Printers Row'"
      ]
     },
     "execution_count": 28,
     "metadata": {},
     "output_type": "execute_result"
    }
   ],
   "source": [
    "df_neighborhoods['pri_neigh'][1]"
   ]
  },
  {
   "cell_type": "code",
   "execution_count": 38,
   "id": "5c51b69b",
   "metadata": {},
   "outputs": [],
   "source": [
    "df_neighborhoods[\"num_thefts\"] = df_neighborhoods[\"num_thefts\"] / 3292"
   ]
  },
  {
   "cell_type": "code",
   "execution_count": 32,
   "id": "5dcc1a50",
   "metadata": {},
   "outputs": [
    {
     "data": {
      "image/png": "[encoded data removed]",
      "text/plain": [
       "<Figure size 640x480 with 1 Axes>"
      ]
     },
     "metadata": {},
     "output_type": "display_data"
    },
    {
     "data": {
      "image/png": "[encoded data removed]",
      "text/plain": [
       "<Figure size 1500x1000 with 1 Axes>"
      ]
     },
     "metadata": {},
     "output_type": "display_data"
    }
   ],
   "source": [
    "import matplotlib.pyplot as plt\n",
    "from mpl_toolkits.axes_grid1 import make_axes_locatable\n",
    "import mapclassify\n",
    "\n",
    "df_neighborhoods.plot(column=\"num_motor_thefts\", missing_kwds={'color': 'lightgrey'})\n",
    "\n",
    "df_neighborhoods.plot(column=\"num_motor_thefts\",\n",
    "                               edgecolor=\"black\",\n",
    "                               legend=True,\n",
    "                               scheme=\"quantiles\",\n",
    "                               figsize=(15,10),\n",
    "                               cmap='OrRd',\n",
    "                               missing_kwds={\n",
    "                                   \"color\": \"lightgrey\",\n",
    "                                   \"edgecolor\": \"red\",\n",
    "                                   \"hatch\": \"///\",\n",
    "                                   \"label\": \"No theft\"\n",
    "                               }).set_axis_off()"
   ]
  },
  {
   "cell_type": "code",
   "execution_count": 40,
   "id": "4f862deb",
   "metadata": {},
   "outputs": [
    {
     "name": "stderr",
     "output_type": "stream",
     "text": [
      "/var/folders/q2/blj1b35943190bxj_nqhbpy0w9ff45/T/ipykernel_76149/3090499026.py:2: SettingWithCopyWarning: \n",
      "A value is trying to be set on a copy of a slice from a DataFrame\n",
      "\n",
      "See the caveats in the documentation: https://pandas.pydata.org/pandas-docs/stable/user_guide/indexing.html#returning-a-view-versus-a-copy\n",
      "  df_neighborhoods[\"num_thefts\"][i] = np.nan\n"
     ]
    }
   ],
   "source": [
    "for i in df_neighborhoods[df_neighborhoods[\"num_thefts\"] == 0].index:\n",
    "    df_neighborhoods[\"num_thefts\"][i] = np.nan"
   ]
  },
  {
   "cell_type": "code",
   "execution_count": 41,
   "id": "5f9d066e",
   "metadata": {},
   "outputs": [
    {
     "data": {
      "text/html": [
       "<div>\n",
       "<style scoped>\n",
       "    .dataframe tbody tr th:only-of-type {\n",
       "        vertical-align: middle;\n",
       "    }\n",
       "\n",
       "    .dataframe tbody tr th {\n",
       "        vertical-align: top;\n",
       "    }\n",
       "\n",
       "    .dataframe thead th {\n",
       "        text-align: right;\n",
       "    }\n",
       "</style>\n",
       "<table border=\"1\" class=\"dataframe\">\n",
       "  <thead>\n",
       "    <tr style=\"text-align: right;\">\n",
       "      <th></th>\n",
       "      <th>num_motor_thefts</th>\n",
       "      <th>num_thefts</th>\n",
       "      <th>pri_neigh</th>\n",
       "      <th>sec_neigh</th>\n",
       "      <th>shape_area</th>\n",
       "      <th>shape_len</th>\n",
       "      <th>geometry</th>\n",
       "    </tr>\n",
       "  </thead>\n",
       "  <tbody>\n",
       "    <tr>\n",
       "      <th>0</th>\n",
       "      <td>0.378378</td>\n",
       "      <td>0.165857</td>\n",
       "      <td>Grand Boulevard</td>\n",
       "      <td>BRONZEVILLE</td>\n",
       "      <td>48492503.1554</td>\n",
       "      <td>28196.837157</td>\n",
       "      <td>POLYGON ((-87.60671 41.81681, -87.60668 41.815...</td>\n",
       "    </tr>\n",
       "    <tr>\n",
       "      <th>1</th>\n",
       "      <td>NaN</td>\n",
       "      <td>NaN</td>\n",
       "      <td>Printers Row</td>\n",
       "      <td>PRINTERS ROW</td>\n",
       "      <td>2162137.97139</td>\n",
       "      <td>6864.247156</td>\n",
       "      <td>POLYGON ((-87.62742 41.86741, -87.63044 41.867...</td>\n",
       "    </tr>\n",
       "    <tr>\n",
       "      <th>2</th>\n",
       "      <td>0.160776</td>\n",
       "      <td>0.070474</td>\n",
       "      <td>United Center</td>\n",
       "      <td>UNITED CENTER</td>\n",
       "      <td>32520512.7053</td>\n",
       "      <td>23101.363745</td>\n",
       "      <td>POLYGON ((-87.66707 41.88885, -87.66706 41.887...</td>\n",
       "    </tr>\n",
       "    <tr>\n",
       "      <th>3</th>\n",
       "      <td>0.023562</td>\n",
       "      <td>0.010328</td>\n",
       "      <td>Sheffield &amp; DePaul</td>\n",
       "      <td>SHEFFIELD &amp; DEPAUL</td>\n",
       "      <td>10482592.2987</td>\n",
       "      <td>13227.049745</td>\n",
       "      <td>POLYGON ((-87.65871 41.93256, -87.65472 41.932...</td>\n",
       "    </tr>\n",
       "    <tr>\n",
       "      <th>4</th>\n",
       "      <td>0.536383</td>\n",
       "      <td>0.235115</td>\n",
       "      <td>Humboldt Park</td>\n",
       "      <td>HUMBOLDT PARK</td>\n",
       "      <td>125010425.593</td>\n",
       "      <td>46126.751351</td>\n",
       "      <td>POLYGON ((-87.74060 41.88782, -87.74069 41.890...</td>\n",
       "    </tr>\n",
       "    <tr>\n",
       "      <th>...</th>\n",
       "      <td>...</td>\n",
       "      <td>...</td>\n",
       "      <td>...</td>\n",
       "      <td>...</td>\n",
       "      <td>...</td>\n",
       "      <td>...</td>\n",
       "      <td>...</td>\n",
       "    </tr>\n",
       "    <tr>\n",
       "      <th>93</th>\n",
       "      <td>0.293139</td>\n",
       "      <td>0.128493</td>\n",
       "      <td>Belmont Cragin</td>\n",
       "      <td>BELMONT CRAGIN,HERMOSA</td>\n",
       "      <td>109099407.211</td>\n",
       "      <td>43311.706886</td>\n",
       "      <td>POLYGON ((-87.74134 41.91390, -87.74601 41.914...</td>\n",
       "    </tr>\n",
       "    <tr>\n",
       "      <th>94</th>\n",
       "      <td>1.000000</td>\n",
       "      <td>0.438335</td>\n",
       "      <td>Austin</td>\n",
       "      <td>AUSTIN</td>\n",
       "      <td>170037750.826</td>\n",
       "      <td>55473.345911</td>\n",
       "      <td>POLYGON ((-87.74134 41.91390, -87.74130 41.912...</td>\n",
       "    </tr>\n",
       "    <tr>\n",
       "      <th>95</th>\n",
       "      <td>0.029106</td>\n",
       "      <td>0.012758</td>\n",
       "      <td>Gold Coast</td>\n",
       "      <td>GOLD COAST</td>\n",
       "      <td>7165705.53467</td>\n",
       "      <td>13685.479377</td>\n",
       "      <td>POLYGON ((-87.62446 41.91157, -87.62466 41.911...</td>\n",
       "    </tr>\n",
       "    <tr>\n",
       "      <th>96</th>\n",
       "      <td>NaN</td>\n",
       "      <td>NaN</td>\n",
       "      <td>Boystown</td>\n",
       "      <td>BOYSTOWN</td>\n",
       "      <td>3365778.97115</td>\n",
       "      <td>9780.268985</td>\n",
       "      <td>POLYGON ((-87.64878 41.93999, -87.64927 41.939...</td>\n",
       "    </tr>\n",
       "    <tr>\n",
       "      <th>97</th>\n",
       "      <td>0.215523</td>\n",
       "      <td>0.094471</td>\n",
       "      <td>River North</td>\n",
       "      <td>RIVER NORTH</td>\n",
       "      <td>38766442.5194</td>\n",
       "      <td>31506.03781</td>\n",
       "      <td>POLYGON ((-87.63145 41.90390, -87.63136 41.900...</td>\n",
       "    </tr>\n",
       "  </tbody>\n",
       "</table>\n",
       "<p>98 rows × 7 columns</p>\n",
       "</div>"
      ],
      "text/plain": [
       "    num_motor_thefts  num_thefts           pri_neigh               sec_neigh  \\\n",
       "0           0.378378    0.165857     Grand Boulevard             BRONZEVILLE   \n",
       "1                NaN         NaN        Printers Row            PRINTERS ROW   \n",
       "2           0.160776    0.070474       United Center           UNITED CENTER   \n",
       "3           0.023562    0.010328  Sheffield & DePaul      SHEFFIELD & DEPAUL   \n",
       "4           0.536383    0.235115       Humboldt Park           HUMBOLDT PARK   \n",
       "..               ...         ...                 ...                     ...   \n",
       "93          0.293139    0.128493      Belmont Cragin  BELMONT CRAGIN,HERMOSA   \n",
       "94          1.000000    0.438335              Austin                  AUSTIN   \n",
       "95          0.029106    0.012758          Gold Coast              GOLD COAST   \n",
       "96               NaN         NaN            Boystown                BOYSTOWN   \n",
       "97          0.215523    0.094471         River North             RIVER NORTH   \n",
       "\n",
       "       shape_area     shape_len  \\\n",
       "0   48492503.1554  28196.837157   \n",
       "1   2162137.97139   6864.247156   \n",
       "2   32520512.7053  23101.363745   \n",
       "3   10482592.2987  13227.049745   \n",
       "4   125010425.593  46126.751351   \n",
       "..            ...           ...   \n",
       "93  109099407.211  43311.706886   \n",
       "94  170037750.826  55473.345911   \n",
       "95  7165705.53467  13685.479377   \n",
       "96  3365778.97115   9780.268985   \n",
       "97  38766442.5194   31506.03781   \n",
       "\n",
       "                                             geometry  \n",
       "0   POLYGON ((-87.60671 41.81681, -87.60668 41.815...  \n",
       "1   POLYGON ((-87.62742 41.86741, -87.63044 41.867...  \n",
       "2   POLYGON ((-87.66707 41.88885, -87.66706 41.887...  \n",
       "3   POLYGON ((-87.65871 41.93256, -87.65472 41.932...  \n",
       "4   POLYGON ((-87.74060 41.88782, -87.74069 41.890...  \n",
       "..                                                ...  \n",
       "93  POLYGON ((-87.74134 41.91390, -87.74601 41.914...  \n",
       "94  POLYGON ((-87.74134 41.91390, -87.74130 41.912...  \n",
       "95  POLYGON ((-87.62446 41.91157, -87.62466 41.911...  \n",
       "96  POLYGON ((-87.64878 41.93999, -87.64927 41.939...  \n",
       "97  POLYGON ((-87.63145 41.90390, -87.63136 41.900...  \n",
       "\n",
       "[98 rows x 7 columns]"
      ]
     },
     "execution_count": 41,
     "metadata": {},
     "output_type": "execute_result"
    }
   ],
   "source": [
    "df_neighborhoods"
   ]
  },
  {
   "cell_type": "code",
   "execution_count": null,
   "id": "f811b352",
   "metadata": {},
   "outputs": [],
   "source": [
    "theft_df = new_df[new_df[' PRIMARY DESCRIPTION'] == 'THEFT']\n",
    "motor_theft_df = new_df[new_df[' PRIMARY DESCRIPTION'] == 'MOTOR VEHICLE THEFT']\n",
    "motor_theft_df.insert(0, 'geometry', np.nan)\n",
    "theft_df.insert(0, 'geometry', np.nan)\n",
    "theft_coords = list(zip(theft_df['LONGITUDE'], theft_df['LATITUDE']))\n",
    "motor_theft_coords = list(zip(motor_theft_df['LONGITUDE'], theft_df['LATITUDE']))"
   ]
  },
  {
   "cell_type": "code",
   "execution_count": null,
   "id": "1a7ded7d",
   "metadata": {
    "scrolled": false
   },
   "outputs": [],
   "source": [
    "for i, ind in enumerate(motor_theft_df['geometry'].index):\n",
    "     motor_theft_df['geometry'][ind] = Point(motor_theft_df['LONGITUDE'][ind], motor_theft_df['LATITUDE'][ind])\n",
    "\n",
    "for i, ind in enumerate(theft_df['geometry'].index):\n",
    "     theft_df['geometry'][ind] = Point(theft_df['LONGITUDE'][ind], theft_df['LATITUDE'][ind])"
   ]
  },
  {
   "cell_type": "code",
   "execution_count": null,
   "id": "03fd666a",
   "metadata": {},
   "outputs": [],
   "source": [
    "motor_theft_df"
   ]
  },
  {
   "cell_type": "code",
   "execution_count": null,
   "id": "c4389960",
   "metadata": {},
   "outputs": [],
   "source": [
    "import geoplot as gplt\n",
    "import geopandas as gpd\n",
    "import pandas as pd; \n",
    "\n",
    "\n",
    "usa_cities = gpd.read_file(gplt.datasets.get_path('usa_cities'))\n",
    "usa_cities.head()\n"
   ]
  },
  {
   "cell_type": "code",
   "execution_count": null,
   "id": "6b898fb0",
   "metadata": {},
   "outputs": [],
   "source": [
    "continental_usa_cities = usa_cities.query('STATE not in [\"HI\", \"AK\", \"PR\", \"TX\", \"FL\"]')\n",
    "continental_usa_cities.head()\n",
    "\n"
   ]
  },
  {
   "cell_type": "code",
   "execution_count": null,
   "id": "53e91ce7",
   "metadata": {},
   "outputs": [],
   "source": [
    "theft_g = gpd.GeoDataFrame(geometry=theft_df['geometry'])\n",
    "motor_theft_g = gpd.GeoDataFrame(geometry=motor_theft_df['geometry'])\n",
    "geometry = gpd.GeoDataFrame(geometry=df_neighborhoods[\"geometry\"])\n",
    "geometry"
   ]
  },
  {
   "cell_type": "code",
   "execution_count": null,
   "id": "02a6e1f1",
   "metadata": {},
   "outputs": [],
   "source": [
    "motor_theft_g[\"weights\"] = float(0.0001836547)\n",
    "theft_g[\"weights\"] = float(0.0004075643)"
   ]
  },
  {
   "cell_type": "code",
   "execution_count": null,
   "id": "f32aa828",
   "metadata": {},
   "outputs": [],
   "source": [
    "ax1 = gplt.polyplot(df_neighborhoods[\"geometry\"].explode(ignore_index=True),    zorder=-1,\n",
    "    linewidth=1,\n",
    "    edgecolor='black',\n",
    "    facecolor='lightgray',\n",
    "    figsize=(30, 30))\n",
    "gplt.pointplot(theft_g,legend_kwargs={ \"marker\":'o',\"markersize\": \"0.1\"}, ax=ax1)\n",
    "\n"
   ]
  },
  {
   "cell_type": "code",
   "execution_count": null,
   "id": "840d546b",
   "metadata": {},
   "outputs": [],
   "source": [
    "ax2 = gplt.polyplot(df_neighborhoods[\"geometry\"].explode(),linewidth=1 ,  edgecolor='black',\n",
    "    facecolor='lightgray', figsize=(30,30))\n",
    "gplt.pointplot(motor_theft_g,legend_kwargs={ \"marker\":'o',\"markersize\": \"0.1\"}, ax=ax2)\n"
   ]
  },
  {
   "cell_type": "code",
   "execution_count": null,
   "id": "08445bd7",
   "metadata": {},
   "outputs": [],
   "source": [
    "motor_theft_kde = gplt.kdeplot(motor_theft_g,  cmap='Reds')\n"
   ]
  },
  {
   "cell_type": "code",
   "execution_count": null,
   "id": "d2254494",
   "metadata": {},
   "outputs": [],
   "source": [
    "theft_kde = gplt.kdeplot(theft_g, cmap='Reds', legend=True)\n"
   ]
  },
  {
   "cell_type": "code",
   "execution_count": null,
   "id": "02d5080c",
   "metadata": {},
   "outputs": [],
   "source": [
    "motor_theft_kde.collections[5].get_facecolors()"
   ]
  },
  {
   "cell_type": "code",
   "execution_count": null,
   "id": "8e51a3fc",
   "metadata": {},
   "outputs": [],
   "source": [
    "import geoplot as gplt\n",
    "import geoplot.crs as gcrs\n",
    "import geopandas as gpd\n",
    "\n",
    "boroughs = gpd.read_file(gplt.datasets.get_path('nyc_boroughs'))\n",
    "collisions = gpd.read_file(gplt.datasets.get_path('nyc_collision_factors'))\n",
    "\n",
    "gplt.pointplot(collisions)"
   ]
  },
  {
   "cell_type": "code",
   "execution_count": null,
   "id": "661c13fc",
   "metadata": {},
   "outputs": [],
   "source": [
    "ax = gplt.kdeplot(collisions, cmap='Reds', shade=False, projection=gcrs.AlbersEqualArea())\n"
   ]
  },
  {
   "cell_type": "code",
   "execution_count": null,
   "id": "fb55e1ab",
   "metadata": {},
   "outputs": [],
   "source": [
    "for i in motor_theft_kde.get_children():\n",
    "    print(i)\n"
   ]
  },
  {
   "cell_type": "code",
   "execution_count": null,
   "id": "38734419",
   "metadata": {},
   "outputs": [],
   "source": [
    "polygons = []\n",
    "for i in theft_kde.get_children():\n",
    "    if str(type(i)) == \"<class 'matplotlib.collections.PathCollection'>\":\n",
    "        for path in i.get_paths():\n",
    "            polygons.append(Polygon(path.to_polygons()[0]))"
   ]
  },
  {
   "cell_type": "code",
   "execution_count": null,
   "id": "839aae34",
   "metadata": {},
   "outputs": [],
   "source": [
    "heatmap = gpd.GeoDataFrame(geometry=polygons)"
   ]
  },
  {
   "cell_type": "code",
   "execution_count": null,
   "id": "c7c51d87",
   "metadata": {},
   "outputs": [],
   "source": [
    "heatmap.plot(edgecolor=\"black\", cmap=\"OrRd\")"
   ]
  },
  {
   "cell_type": "code",
   "execution_count": null,
   "id": "33a47177",
   "metadata": {},
   "outputs": [],
   "source": [
    "polygons"
   ]
  },
  {
   "cell_type": "code",
   "execution_count": null,
   "id": "e833fd8f",
   "metadata": {},
   "outputs": [],
   "source": [
    "new_df"
   ]
  },
  {
   "cell_type": "code",
   "execution_count": null,
   "id": "64d149fd",
   "metadata": {},
   "outputs": [],
   "source": [
    "gdf = gpd.GeoDataFrame(geometry=polygons)"
   ]
  },
  {
   "cell_type": "code",
   "execution_count": null,
   "id": "0e0af8d4",
   "metadata": {},
   "outputs": [],
   "source": [
    "gdf.to_file(\"kde_theft.json\")"
   ]
  },
  {
   "cell_type": "code",
   "execution_count": null,
   "id": "fbcef86f",
   "metadata": {},
   "outputs": [],
   "source": [
    "chicago_neighborhoods = gpd.read_file(\"./../chi_data_science/chicagodata.json\")\n"
   ]
  },
  {
   "cell_type": "code",
   "execution_count": null,
   "id": "79cd3c23",
   "metadata": {},
   "outputs": [],
   "source": [
    "chicago_boundary = chicago_neighborhoods.unary_union"
   ]
  },
  {
   "cell_type": "code",
   "execution_count": null,
   "id": "581a6a7d",
   "metadata": {},
   "outputs": [],
   "source": [
    "chicago_boundary"
   ]
  },
  {
   "cell_type": "code",
   "execution_count": null,
   "id": "a884f856",
   "metadata": {},
   "outputs": [],
   "source": [
    "chicago_outline = gpd.GeoDataFrame(geometry=[chicago_boundary])\n"
   ]
  },
  {
   "cell_type": "code",
   "execution_count": null,
   "id": "6185f3c4",
   "metadata": {},
   "outputs": [],
   "source": [
    "community_df"
   ]
  },
  {
   "cell_type": "code",
   "execution_count": null,
   "id": "4cd9cdc6",
   "metadata": {},
   "outputs": [],
   "source": [
    "chicago_outline.to_file(\"chicago_outline.json\")"
   ]
  },
  {
   "cell_type": "code",
   "execution_count": null,
   "id": "8378a4e9",
   "metadata": {},
   "outputs": [],
   "source": [
    "community_df = pd.read_csv(\"./community_data.csv\")"
   ]
  },
  {
   "cell_type": "code",
   "execution_count": null,
   "id": "c7c512c3",
   "metadata": {},
   "outputs": [],
   "source": [
    "for x in community_df.iloc[0].index:\n",
    "    if community_df.iloc[0][x] in df_neighborhoods.pri_neigh.tolist():\n",
    "#         print(community_df.iloc[1][x])\n",
    "#         print(community_df.iloc[2][x])\n",
    "        df_neighborhoods[(df_neighborhoods['pri_neigh'] == community_df.iloc[0][x])]['population'] = community_df.iloc[1][x]\n",
    "        df_neighborhoods[(df_neighborhoods['pri_neigh'] == community_df.iloc[0][x])]['income'] = community_df.iloc[2][x]\n",
    "        df_neighborhoods[(df_neighborhoods['pri_neigh'] == community_df.iloc[0][x])]['latinos'] = community_df.iloc[4][x]\n",
    "        df_neighborhoods[(df_neighborhoods['pri_neigh'] == community_df.iloc[0][x])]['blacks'] = community_df.iloc[5][x]\n",
    "        df_neighborhoods[(df_neighborhoods['pri_neigh'] == community_df.iloc[0][x])]['whites'] = community_df.iloc[6][x]\n",
    "        df_neighborhoods[(df_neighborhoods['pri_neigh'] == community_df.iloc[0][x])]['asians'] = community_df.iloc[7][x] \n",
    "        df_neighborhoods[(df_neighborhoods['pri_neigh'] == community_df.iloc[0][x])]['other'] = community_df.iloc[8][x]\n",
    "    \n",
    "    \n",
    "    "
   ]
  },
  {
   "cell_type": "code",
   "execution_count": null,
   "id": "fee2625c",
   "metadata": {},
   "outputs": [],
   "source": [
    "df_neighborhoods.iloc[(df_neighborhoods['pri_neigh'] == community_df.iloc[0][x]).tolist().index(True)].loc['population']"
   ]
  },
  {
   "cell_type": "code",
   "execution_count": null,
   "id": "8b325394",
   "metadata": {},
   "outputs": [],
   "source": [
    "df_neighborhoods.num_thefts = df_neighborhoods.num_thefts/1443"
   ]
  },
  {
   "cell_type": "code",
   "execution_count": null,
   "id": "872a3797",
   "metadata": {},
   "outputs": [],
   "source": [
    "df_neighborhoods"
   ]
  },
  {
   "cell_type": "code",
   "execution_count": 8,
   "id": "f86d0dd4",
   "metadata": {},
   "outputs": [
    {
     "name": "stdout",
     "output_type": "stream",
     "text": [
      "0    POINT (-87.68597 41.83724)\n",
      "dtype: geometry\n"
     ]
    },
    {
     "name": "stderr",
     "output_type": "stream",
     "text": [
      "/var/folders/q2/blj1b35943190bxj_nqhbpy0w9ff45/T/ipykernel_19002/2820728753.py:11: UserWarning: Geometry is in a geographic CRS. Results from 'centroid' are likely incorrect. Use 'GeoSeries.to_crs()' to re-project geometries to a projected CRS before this operation.\n",
      "\n",
      "  centroid = mp.centroid\n"
     ]
    }
   ],
   "source": [
    "import json \n",
    "from shapely.geometry import MultiPolygon, shape\n",
    "import geopandas as gpd\n",
    "\n",
    "\n",
    "outline = gpd.read_file(\"./chicago_outline.json\")\n",
    "\n",
    "# load the geojson file into a shapely object\n",
    "mp = outline\n",
    "# calculate the centroid of the multipolygon\n",
    "centroid = mp.centroid\n",
    "\n",
    "# print the centroid\n",
    "print(centroid)"
   ]
  },
  {
   "cell_type": "code",
   "execution_count": null,
   "id": "2bb70ef2",
   "metadata": {},
   "outputs": [],
   "source": []
  }
 ],
 "metadata": {
  "kernelspec": {
   "display_name": "Python 3 (ipykernel)",
   "language": "python",
   "name": "python3"
  },
  "language_info": {
   "codemirror_mode": {
    "name": "ipython",
    "version": 3
   },
   "file_extension": ".py",
   "mimetype": "text/x-python",
   "name": "python",
   "nbconvert_exporter": "python",
   "pygments_lexer": "ipython3",
   "version": "3.10.10"
  }
 },
 "nbformat": 4,
 "nbformat_minor": 5
}
